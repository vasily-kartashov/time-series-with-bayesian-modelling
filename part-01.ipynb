{
 "cells": [
  {
   "cell_type": "code",
   "execution_count": 1,
   "metadata": {
    "collapsed": true,
    "ExecuteTime": {
     "start_time": "2023-04-18T08:47:16.210405Z",
     "end_time": "2023-04-18T08:47:16.501501Z"
    }
   },
   "outputs": [],
   "source": [
    "import pandas as pd"
   ]
  },
  {
   "cell_type": "code",
   "execution_count": 2,
   "outputs": [
    {
     "data": {
      "text/plain": "   IsCanceled  LeadTime  ArrivalDateYear ArrivalDateMonth   \n0           0       342             2015             July  \\\n1           0       737             2015             July   \n2           0         7             2015             July   \n3           0        13             2015             July   \n4           0        14             2015             July   \n\n   ArrivalDateWeekNumber  ArrivalDateDayOfMonth  StaysInWeekendNights   \n0                     27                      1                     0  \\\n1                     27                      1                     0   \n2                     27                      1                     0   \n3                     27                      1                     0   \n4                     27                      1                     0   \n\n   StaysInWeekNights  Adults  Children  ...      DepositType        Agent   \n0                  0       2         0  ...  No Deposit              NULL  \\\n1                  0       2         0  ...  No Deposit              NULL   \n2                  1       1         0  ...  No Deposit              NULL   \n3                  1       1         0  ...  No Deposit               304   \n4                  2       2         0  ...  No Deposit               240   \n\n       Company DaysInWaitingList CustomerType   ADR  RequiredCarParkingSpaces   \n0         NULL                 0    Transient   0.0                         0  \\\n1         NULL                 0    Transient   0.0                         0   \n2         NULL                 0    Transient  75.0                         0   \n3         NULL                 0    Transient  75.0                         0   \n4         NULL                 0    Transient  98.0                         0   \n\n   TotalOfSpecialRequests ReservationStatus ReservationStatusDate  \n0                       0         Check-Out            2015-07-01  \n1                       0         Check-Out            2015-07-01  \n2                       0         Check-Out            2015-07-02  \n3                       0         Check-Out            2015-07-02  \n4                       1         Check-Out            2015-07-03  \n\n[5 rows x 31 columns]",
      "text/html": "<div>\n<style scoped>\n    .dataframe tbody tr th:only-of-type {\n        vertical-align: middle;\n    }\n\n    .dataframe tbody tr th {\n        vertical-align: top;\n    }\n\n    .dataframe thead th {\n        text-align: right;\n    }\n</style>\n<table border=\"1\" class=\"dataframe\">\n  <thead>\n    <tr style=\"text-align: right;\">\n      <th></th>\n      <th>IsCanceled</th>\n      <th>LeadTime</th>\n      <th>ArrivalDateYear</th>\n      <th>ArrivalDateMonth</th>\n      <th>ArrivalDateWeekNumber</th>\n      <th>ArrivalDateDayOfMonth</th>\n      <th>StaysInWeekendNights</th>\n      <th>StaysInWeekNights</th>\n      <th>Adults</th>\n      <th>Children</th>\n      <th>...</th>\n      <th>DepositType</th>\n      <th>Agent</th>\n      <th>Company</th>\n      <th>DaysInWaitingList</th>\n      <th>CustomerType</th>\n      <th>ADR</th>\n      <th>RequiredCarParkingSpaces</th>\n      <th>TotalOfSpecialRequests</th>\n      <th>ReservationStatus</th>\n      <th>ReservationStatusDate</th>\n    </tr>\n  </thead>\n  <tbody>\n    <tr>\n      <th>0</th>\n      <td>0</td>\n      <td>342</td>\n      <td>2015</td>\n      <td>July</td>\n      <td>27</td>\n      <td>1</td>\n      <td>0</td>\n      <td>0</td>\n      <td>2</td>\n      <td>0</td>\n      <td>...</td>\n      <td>No Deposit</td>\n      <td>NULL</td>\n      <td>NULL</td>\n      <td>0</td>\n      <td>Transient</td>\n      <td>0.0</td>\n      <td>0</td>\n      <td>0</td>\n      <td>Check-Out</td>\n      <td>2015-07-01</td>\n    </tr>\n    <tr>\n      <th>1</th>\n      <td>0</td>\n      <td>737</td>\n      <td>2015</td>\n      <td>July</td>\n      <td>27</td>\n      <td>1</td>\n      <td>0</td>\n      <td>0</td>\n      <td>2</td>\n      <td>0</td>\n      <td>...</td>\n      <td>No Deposit</td>\n      <td>NULL</td>\n      <td>NULL</td>\n      <td>0</td>\n      <td>Transient</td>\n      <td>0.0</td>\n      <td>0</td>\n      <td>0</td>\n      <td>Check-Out</td>\n      <td>2015-07-01</td>\n    </tr>\n    <tr>\n      <th>2</th>\n      <td>0</td>\n      <td>7</td>\n      <td>2015</td>\n      <td>July</td>\n      <td>27</td>\n      <td>1</td>\n      <td>0</td>\n      <td>1</td>\n      <td>1</td>\n      <td>0</td>\n      <td>...</td>\n      <td>No Deposit</td>\n      <td>NULL</td>\n      <td>NULL</td>\n      <td>0</td>\n      <td>Transient</td>\n      <td>75.0</td>\n      <td>0</td>\n      <td>0</td>\n      <td>Check-Out</td>\n      <td>2015-07-02</td>\n    </tr>\n    <tr>\n      <th>3</th>\n      <td>0</td>\n      <td>13</td>\n      <td>2015</td>\n      <td>July</td>\n      <td>27</td>\n      <td>1</td>\n      <td>0</td>\n      <td>1</td>\n      <td>1</td>\n      <td>0</td>\n      <td>...</td>\n      <td>No Deposit</td>\n      <td>304</td>\n      <td>NULL</td>\n      <td>0</td>\n      <td>Transient</td>\n      <td>75.0</td>\n      <td>0</td>\n      <td>0</td>\n      <td>Check-Out</td>\n      <td>2015-07-02</td>\n    </tr>\n    <tr>\n      <th>4</th>\n      <td>0</td>\n      <td>14</td>\n      <td>2015</td>\n      <td>July</td>\n      <td>27</td>\n      <td>1</td>\n      <td>0</td>\n      <td>2</td>\n      <td>2</td>\n      <td>0</td>\n      <td>...</td>\n      <td>No Deposit</td>\n      <td>240</td>\n      <td>NULL</td>\n      <td>0</td>\n      <td>Transient</td>\n      <td>98.0</td>\n      <td>0</td>\n      <td>1</td>\n      <td>Check-Out</td>\n      <td>2015-07-03</td>\n    </tr>\n  </tbody>\n</table>\n<p>5 rows × 31 columns</p>\n</div>"
     },
     "execution_count": 2,
     "metadata": {},
     "output_type": "execute_result"
    }
   ],
   "source": [
    "df = pd.read_csv('H1.csv')\n",
    "df.head()"
   ],
   "metadata": {
    "collapsed": false,
    "ExecuteTime": {
     "start_time": "2023-04-18T08:47:16.502373Z",
     "end_time": "2023-04-18T08:47:16.578397Z"
    }
   }
  },
  {
   "cell_type": "code",
   "execution_count": 3,
   "outputs": [
    {
     "data": {
      "text/plain": "   IsCanceled  LeadTime  ArrivalDateYear ArrivalDateMonth   \n0           0       342             2015             July  \\\n1           0       737             2015             July   \n2           0         7             2015             July   \n3           0        13             2015             July   \n4           0        14             2015             July   \n\n   ArrivalDateWeekNumber  ArrivalDateDayOfMonth  StaysInWeekendNights   \n0                     27                      1                     0  \\\n1                     27                      1                     0   \n2                     27                      1                     0   \n3                     27                      1                     0   \n4                     27                      1                     0   \n\n   StaysInWeekNights  Adults  Children  ...        Agent      Company   \n0                  0       2         0  ...         NULL         NULL  \\\n1                  0       2         0  ...         NULL         NULL   \n2                  1       1         0  ...         NULL         NULL   \n3                  1       1         0  ...          304         NULL   \n4                  2       2         0  ...          240         NULL   \n\n  DaysInWaitingList CustomerType   ADR  RequiredCarParkingSpaces   \n0                 0    Transient   0.0                         0  \\\n1                 0    Transient   0.0                         0   \n2                 0    Transient  75.0                         0   \n3                 0    Transient  75.0                         0   \n4                 0    Transient  98.0                         0   \n\n   TotalOfSpecialRequests  ReservationStatus ReservationStatusDate   \n0                       0          Check-Out            2015-07-01  \\\n1                       0          Check-Out            2015-07-01   \n2                       0          Check-Out            2015-07-02   \n3                       0          Check-Out            2015-07-02   \n4                       1          Check-Out            2015-07-03   \n\n  Date (Year and Week Number)  \n0                      201527  \n1                      201527  \n2                      201527  \n3                      201527  \n4                      201527  \n\n[5 rows x 32 columns]",
      "text/html": "<div>\n<style scoped>\n    .dataframe tbody tr th:only-of-type {\n        vertical-align: middle;\n    }\n\n    .dataframe tbody tr th {\n        vertical-align: top;\n    }\n\n    .dataframe thead th {\n        text-align: right;\n    }\n</style>\n<table border=\"1\" class=\"dataframe\">\n  <thead>\n    <tr style=\"text-align: right;\">\n      <th></th>\n      <th>IsCanceled</th>\n      <th>LeadTime</th>\n      <th>ArrivalDateYear</th>\n      <th>ArrivalDateMonth</th>\n      <th>ArrivalDateWeekNumber</th>\n      <th>ArrivalDateDayOfMonth</th>\n      <th>StaysInWeekendNights</th>\n      <th>StaysInWeekNights</th>\n      <th>Adults</th>\n      <th>Children</th>\n      <th>...</th>\n      <th>Agent</th>\n      <th>Company</th>\n      <th>DaysInWaitingList</th>\n      <th>CustomerType</th>\n      <th>ADR</th>\n      <th>RequiredCarParkingSpaces</th>\n      <th>TotalOfSpecialRequests</th>\n      <th>ReservationStatus</th>\n      <th>ReservationStatusDate</th>\n      <th>Date (Year and Week Number)</th>\n    </tr>\n  </thead>\n  <tbody>\n    <tr>\n      <th>0</th>\n      <td>0</td>\n      <td>342</td>\n      <td>2015</td>\n      <td>July</td>\n      <td>27</td>\n      <td>1</td>\n      <td>0</td>\n      <td>0</td>\n      <td>2</td>\n      <td>0</td>\n      <td>...</td>\n      <td>NULL</td>\n      <td>NULL</td>\n      <td>0</td>\n      <td>Transient</td>\n      <td>0.0</td>\n      <td>0</td>\n      <td>0</td>\n      <td>Check-Out</td>\n      <td>2015-07-01</td>\n      <td>201527</td>\n    </tr>\n    <tr>\n      <th>1</th>\n      <td>0</td>\n      <td>737</td>\n      <td>2015</td>\n      <td>July</td>\n      <td>27</td>\n      <td>1</td>\n      <td>0</td>\n      <td>0</td>\n      <td>2</td>\n      <td>0</td>\n      <td>...</td>\n      <td>NULL</td>\n      <td>NULL</td>\n      <td>0</td>\n      <td>Transient</td>\n      <td>0.0</td>\n      <td>0</td>\n      <td>0</td>\n      <td>Check-Out</td>\n      <td>2015-07-01</td>\n      <td>201527</td>\n    </tr>\n    <tr>\n      <th>2</th>\n      <td>0</td>\n      <td>7</td>\n      <td>2015</td>\n      <td>July</td>\n      <td>27</td>\n      <td>1</td>\n      <td>0</td>\n      <td>1</td>\n      <td>1</td>\n      <td>0</td>\n      <td>...</td>\n      <td>NULL</td>\n      <td>NULL</td>\n      <td>0</td>\n      <td>Transient</td>\n      <td>75.0</td>\n      <td>0</td>\n      <td>0</td>\n      <td>Check-Out</td>\n      <td>2015-07-02</td>\n      <td>201527</td>\n    </tr>\n    <tr>\n      <th>3</th>\n      <td>0</td>\n      <td>13</td>\n      <td>2015</td>\n      <td>July</td>\n      <td>27</td>\n      <td>1</td>\n      <td>0</td>\n      <td>1</td>\n      <td>1</td>\n      <td>0</td>\n      <td>...</td>\n      <td>304</td>\n      <td>NULL</td>\n      <td>0</td>\n      <td>Transient</td>\n      <td>75.0</td>\n      <td>0</td>\n      <td>0</td>\n      <td>Check-Out</td>\n      <td>2015-07-02</td>\n      <td>201527</td>\n    </tr>\n    <tr>\n      <th>4</th>\n      <td>0</td>\n      <td>14</td>\n      <td>2015</td>\n      <td>July</td>\n      <td>27</td>\n      <td>1</td>\n      <td>0</td>\n      <td>2</td>\n      <td>2</td>\n      <td>0</td>\n      <td>...</td>\n      <td>240</td>\n      <td>NULL</td>\n      <td>0</td>\n      <td>Transient</td>\n      <td>98.0</td>\n      <td>0</td>\n      <td>1</td>\n      <td>Check-Out</td>\n      <td>2015-07-03</td>\n      <td>201527</td>\n    </tr>\n  </tbody>\n</table>\n<p>5 rows × 32 columns</p>\n</div>"
     },
     "execution_count": 3,
     "metadata": {},
     "output_type": "execute_result"
    }
   ],
   "source": [
    "df['Date (Year and Week Number)'] = df['ArrivalDateYear'].astype(str) + df['ArrivalDateWeekNumber'].astype(str)\n",
    "df.head()"
   ],
   "metadata": {
    "collapsed": false,
    "ExecuteTime": {
     "start_time": "2023-04-18T08:47:16.597659Z",
     "end_time": "2023-04-18T08:47:16.601139Z"
    }
   }
  },
  {
   "cell_type": "code",
   "execution_count": 4,
   "outputs": [
    {
     "data": {
      "text/plain": "Date (Year and Week Number)\n201527     41\n201528     48\n201529     87\n201530     74\n201531    101\n         ... \n20175      51\n20176      91\n20177      96\n20178     128\n20179      77\nName: IsCanceled, Length: 115, dtype: int64"
     },
     "execution_count": 4,
     "metadata": {},
     "output_type": "execute_result"
    }
   ],
   "source": [
    "grouped = df.groupby('Date (Year and Week Number)')['IsCanceled'].agg('sum')\n",
    "grouped"
   ],
   "metadata": {
    "collapsed": false,
    "ExecuteTime": {
     "start_time": "2023-04-18T08:47:16.601324Z",
     "end_time": "2023-04-18T08:47:16.623088Z"
    }
   }
  },
  {
   "cell_type": "code",
   "execution_count": 4,
   "outputs": [],
   "source": [],
   "metadata": {
    "collapsed": false,
    "ExecuteTime": {
     "start_time": "2023-04-18T08:47:16.606016Z",
     "end_time": "2023-04-18T08:47:16.643963Z"
    }
   }
  }
 ],
 "metadata": {
  "kernelspec": {
   "display_name": "Python 3",
   "language": "python",
   "name": "python3"
  },
  "language_info": {
   "codemirror_mode": {
    "name": "ipython",
    "version": 2
   },
   "file_extension": ".py",
   "mimetype": "text/x-python",
   "name": "python",
   "nbconvert_exporter": "python",
   "pygments_lexer": "ipython2",
   "version": "2.7.6"
  }
 },
 "nbformat": 4,
 "nbformat_minor": 0
}
