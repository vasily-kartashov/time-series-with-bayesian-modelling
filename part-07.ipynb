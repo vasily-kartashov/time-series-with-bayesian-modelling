{
 "cells": [
  {
   "cell_type": "code",
   "execution_count": 1,
   "metadata": {
    "collapsed": true,
    "ExecuteTime": {
     "start_time": "2023-04-21T19:52:36.788008Z",
     "end_time": "2023-04-21T19:52:37.640430Z"
    }
   },
   "outputs": [
    {
     "data": {
      "text/plain": "100.0"
     },
     "execution_count": 1,
     "metadata": {},
     "output_type": "execute_result"
    }
   ],
   "source": [
    "import pandas as pd\n",
    "from matplotlib import rcParams, pyplot as plt\n",
    "from sklearn.model_selection import train_test_split\n",
    "from tensorflow_probability import sts\n",
    "\n",
    "rcParams['figure.figsize'] = [12, 8]\n",
    "rcParams['figure.dpi']"
   ]
  },
  {
   "cell_type": "code",
   "execution_count": null,
   "outputs": [],
   "source": [
    "df = pd.read_csv('h1weekly.csv',\n",
    "                 parse_dates=['Date'],\n",
    "                 index_col='Date',\n",
    "                 dtype={'IsCanceled': float})\n",
    "plt.plot(df)"
   ],
   "metadata": {
    "collapsed": false,
    "ExecuteTime": {
     "start_time": "2023-04-18T18:20:22.171394Z",
     "end_time": "2023-04-18T18:20:22.457915Z"
    }
   }
  },
  {
   "cell_type": "code",
   "execution_count": null,
   "outputs": [],
   "source": [
    "train_data, test_data = train_test_split(df, test_size=0.1, shuffle=False)"
   ],
   "metadata": {
    "collapsed": false,
    "ExecuteTime": {
     "start_time": "2023-04-18T18:19:17.878292Z",
     "end_time": "2023-04-18T18:19:17.883259Z"
    }
   }
  },
  {
   "cell_type": "code",
   "execution_count": null,
   "outputs": [],
   "source": [
    "def build_model(observed_time_series):\n",
    "    trend = sts.LocalLinearTrend(observed_time_series=observed_time_series)\n",
    "    seasonal = sts.Seasonal(num_seasons=52, observed_time_series=observed_time_series)\n",
    "    model = sts.Sum([trend, seasonal], observed_time_series=observed_time_series)\n",
    "    return model"
   ],
   "metadata": {
    "collapsed": false,
    "ExecuteTime": {
     "start_time": "2023-04-18T18:21:38.963235Z",
     "end_time": "2023-04-18T18:21:38.980426Z"
    }
   }
  },
  {
   "cell_type": "code",
   "execution_count": null,
   "outputs": [],
   "source": [
    "tseries_model = build_model(train_data['IsCanceled'])\n",
    "variational_posteriors = sts.build_factored_surrogate_posterior(model=tseries_model)"
   ],
   "metadata": {
    "collapsed": false
   }
  },
  {
   "cell_type": "code",
   "execution_count": null,
   "outputs": [],
   "source": [],
   "metadata": {
    "collapsed": false
   }
  }
 ],
 "metadata": {
  "kernelspec": {
   "display_name": "Python 3",
   "language": "python",
   "name": "python3"
  },
  "language_info": {
   "codemirror_mode": {
    "name": "ipython",
    "version": 2
   },
   "file_extension": ".py",
   "mimetype": "text/x-python",
   "name": "python",
   "nbconvert_exporter": "python",
   "pygments_lexer": "ipython2",
   "version": "2.7.6"
  }
 },
 "nbformat": 4,
 "nbformat_minor": 0
}
